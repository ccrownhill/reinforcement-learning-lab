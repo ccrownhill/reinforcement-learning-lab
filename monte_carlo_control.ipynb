{
 "cells": [
  {
   "cell_type": "code",
   "execution_count": 1,
   "id": "03a1a038",
   "metadata": {},
   "outputs": [],
   "source": [
    "import gym\n",
    "import numpy as np\n",
    "import matplotlib.pyplot as plt"
   ]
  },
  {
   "cell_type": "code",
   "execution_count": 2,
   "id": "8b14e42b",
   "metadata": {},
   "outputs": [],
   "source": [
    "deterministic_env = gym.make('FrozenLake-v0', is_slippery=False)"
   ]
  },
  {
   "cell_type": "code",
   "execution_count": 3,
   "id": "9241384c",
   "metadata": {},
   "outputs": [
    {
     "data": {
      "text/plain": [
       "Discrete(16)"
      ]
     },
     "execution_count": 3,
     "metadata": {},
     "output_type": "execute_result"
    }
   ],
   "source": [
    "deterministic_env.observation_space"
   ]
  },
  {
   "cell_type": "code",
   "execution_count": 4,
   "id": "d20602b8",
   "metadata": {},
   "outputs": [
    {
     "name": "stdout",
     "output_type": "stream",
     "text": [
      "\n",
      "\u001b[41mS\u001b[0mFFF\n",
      "FHFH\n",
      "FFFH\n",
      "HFFG\n"
     ]
    }
   ],
   "source": [
    "deterministic_env.reset()\n",
    "deterministic_env.render()"
   ]
  },
  {
   "cell_type": "code",
   "execution_count": 5,
   "id": "bd34cb54",
   "metadata": {},
   "outputs": [],
   "source": [
    "s_p = np.array([\n",
    "    [0,4,1,0], #0\n",
    "    [0,5,2,1], #1\n",
    "    [1,6,3,2], #2\n",
    "    [2,7,3,3], #3\n",
    "    [4,8,5,0], #4\n",
    "    [-1,-1,-1,-1], #5\n",
    "    [5,10,7,2], #6\n",
    "    [-1,-1,-1,-1], #7\n",
    "    [8,12,9,4], #8\n",
    "    [8,13,10,5], #9\n",
    "    [9,14,11,6], #10\n",
    "    [-1,-1,-1,-1], #11\n",
    "    [-1,-1,-1,-1], #12\n",
    "    [12,13,14,9], #13\n",
    "    [13,14,15,10], #14\n",
    "    [-1,-1,-1,-1], #15\n",
    "])"
   ]
  },
  {
   "cell_type": "code",
   "execution_count": 18,
   "id": "16e36ca1",
   "metadata": {},
   "outputs": [
    {
     "data": {
      "text/plain": [
       "array([0])"
      ]
     },
     "execution_count": 18,
     "metadata": {},
     "output_type": "execute_result"
    }
   ],
   "source": [
    "Q = np.random.random([16,4])\n",
    "returns = np.zeros([16,4,100])\n",
    "pi = np.random.choice(4,size=16)\n",
    "pi[0:1]"
   ]
  },
  {
   "cell_type": "code",
   "execution_count": 16,
   "id": "ec5c48b9",
   "metadata": {},
   "outputs": [
    {
     "data": {
      "text/plain": [
       "1.5"
      ]
     },
     "execution_count": 16,
     "metadata": {},
     "output_type": "execute_result"
    }
   ],
   "source": [
    "np.average(pi)"
   ]
  },
  {
   "cell_type": "markdown",
   "id": "d845cd06",
   "metadata": {},
   "source": [
    "epsilon: with this probability you do a random action\n",
    "1 - epsilon: with this probability you do the best action"
   ]
  },
  {
   "cell_type": "code",
   "execution_count": null,
   "id": "69e34964",
   "metadata": {},
   "outputs": [],
   "source": [
    "observation = deterministic_env.reset()\n",
    "for i in range(100):\n",
    "    for _ in range(100):\n",
    "        #deterministic_env.render()\n",
    "        a = pi[observation]\n",
    "        observation, reward, done, info = deterministic_env.step(a)\n",
    "        G = reward\n",
    "        returns[s,a,i]\n",
    "        Q[s,a] = np.average(returns[s,a,:i+1])\n",
    "        a_star = np.argmax(Q[s])\n",
    "        \n",
    "\n",
    "        if done:\n",
    "            #deterministic_env.render()\n",
    "            break"
   ]
  }
 ],
 "metadata": {
  "kernelspec": {
   "display_name": "Python 3",
   "language": "python",
   "name": "python3"
  },
  "language_info": {
   "codemirror_mode": {
    "name": "ipython",
    "version": 3
   },
   "file_extension": ".py",
   "mimetype": "text/x-python",
   "name": "python",
   "nbconvert_exporter": "python",
   "pygments_lexer": "ipython3",
   "version": "3.9.5"
  }
 },
 "nbformat": 4,
 "nbformat_minor": 5
}
